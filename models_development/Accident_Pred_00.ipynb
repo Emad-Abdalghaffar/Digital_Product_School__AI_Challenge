{
 "cells": [
  {
   "cell_type": "markdown",
   "metadata": {},
   "source": [
<<<<<<< HEAD
    "## Tools and Dataset"
=======
    "## Imports"
>>>>>>> 48006175918dfa3ceadf496e6a8019afef2f160a
   ]
  },
  {
   "cell_type": "code",
<<<<<<< HEAD
   "execution_count": 1,
=======
   "execution_count": 160,
>>>>>>> 48006175918dfa3ceadf496e6a8019afef2f160a
   "metadata": {
    "_cell_guid": "41b1b1df-7330-4e89-b81f-5eb833deeea1",
    "_uuid": "48246f9c-b9d4-4cb4-bfb4-37cb16d9090b",
    "execution": {
     "iopub.execute_input": "2022-04-14T17:43:07.304553Z",
     "iopub.status.busy": "2022-04-14T17:43:07.303851Z",
     "iopub.status.idle": "2022-04-14T17:43:10.097317Z",
     "shell.execute_reply": "2022-04-14T17:43:10.096563Z",
     "shell.execute_reply.started": "2022-04-14T17:43:07.304424Z"
    },
    "jupyter": {
     "outputs_hidden": false
    }
   },
   "outputs": [],
   "source": [
    "import numpy as np\n",
    "import pandas as pd\n",
    "\n",
    "from matplotlib import pyplot as plt\n",
    "import seaborn as sns\n",
    "%matplotlib inline"
   ]
  },
  {
   "cell_type": "code",
<<<<<<< HEAD
   "execution_count": 3,
=======
   "execution_count": 161,
>>>>>>> 48006175918dfa3ceadf496e6a8019afef2f160a
   "metadata": {
    "_cell_guid": "b847c758-a244-464f-bf43-f91383cafea6",
    "_uuid": "f1cdc3aa-144e-4726-a114-55506de33067",
    "execution": {
     "iopub.execute_input": "2022-04-14T17:43:10.099159Z",
     "iopub.status.busy": "2022-04-14T17:43:10.098935Z",
     "iopub.status.idle": "2022-04-14T17:43:10.207752Z",
     "shell.execute_reply": "2022-04-14T17:43:10.206887Z",
     "shell.execute_reply.started": "2022-04-14T17:43:10.099133Z"
    },
    "jupyter": {
     "outputs_hidden": false
    }
   },
   "outputs": [],
   "source": [
<<<<<<< HEAD
    "df = pd.read_csv('../../dataset/dataset.csv', usecols=[0,1,2,3,4])"
=======
    "df = pd.read_csv('dataset/dataset.csv', usecols=[0,1,2,3,4])"
>>>>>>> 48006175918dfa3ceadf496e6a8019afef2f160a
   ]
  },
  {
   "cell_type": "markdown",
   "metadata": {},
   "source": [
    "## EDA"
   ]
  },
  {
   "cell_type": "code",
<<<<<<< HEAD
   "execution_count": 4,
=======
   "execution_count": 162,
>>>>>>> 48006175918dfa3ceadf496e6a8019afef2f160a
   "metadata": {},
   "outputs": [
    {
     "name": "stdout",
     "output_type": "stream",
     "text": [
      "<class 'pandas.core.frame.DataFrame'>\n",
      "RangeIndex: 2086 entries, 0 to 2085\n",
      "Data columns (total 5 columns):\n",
      " #   Column       Non-Null Count  Dtype  \n",
      "---  ------       --------------  -----  \n",
      " 0   MONATSZAHL   2086 non-null   object \n",
      " 1   AUSPRAEGUNG  2086 non-null   object \n",
      " 2   JAHR         2086 non-null   int64  \n",
      " 3   MONAT        2086 non-null   object \n",
      " 4   WERT         2002 non-null   float64\n",
      "dtypes: float64(1), int64(1), object(3)\n",
      "memory usage: 81.6+ KB\n"
     ]
    },
    {
     "data": {
      "text/html": [
       "<div>\n",
       "<style scoped>\n",
       "    .dataframe tbody tr th:only-of-type {\n",
       "        vertical-align: middle;\n",
       "    }\n",
       "\n",
       "    .dataframe tbody tr th {\n",
       "        vertical-align: top;\n",
       "    }\n",
       "\n",
       "    .dataframe thead th {\n",
       "        text-align: right;\n",
       "    }\n",
       "</style>\n",
       "<table border=\"1\" class=\"dataframe\">\n",
       "  <thead>\n",
       "    <tr style=\"text-align: right;\">\n",
       "      <th></th>\n",
       "      <th>MONATSZAHL</th>\n",
       "      <th>AUSPRAEGUNG</th>\n",
       "      <th>JAHR</th>\n",
       "      <th>MONAT</th>\n",
       "      <th>WERT</th>\n",
       "    </tr>\n",
       "  </thead>\n",
       "  <tbody>\n",
       "    <tr>\n",
       "      <th>0</th>\n",
       "      <td>Alkoholunfälle</td>\n",
       "      <td>insgesamt</td>\n",
       "      <td>2022</td>\n",
       "      <td>202201</td>\n",
       "      <td>NaN</td>\n",
       "    </tr>\n",
       "    <tr>\n",
       "      <th>1</th>\n",
       "      <td>Alkoholunfälle</td>\n",
       "      <td>insgesamt</td>\n",
       "      <td>2022</td>\n",
       "      <td>202202</td>\n",
       "      <td>NaN</td>\n",
       "    </tr>\n",
       "    <tr>\n",
       "      <th>2</th>\n",
       "      <td>Alkoholunfälle</td>\n",
       "      <td>insgesamt</td>\n",
       "      <td>2022</td>\n",
       "      <td>202203</td>\n",
       "      <td>NaN</td>\n",
       "    </tr>\n",
       "    <tr>\n",
       "      <th>3</th>\n",
       "      <td>Alkoholunfälle</td>\n",
       "      <td>insgesamt</td>\n",
       "      <td>2022</td>\n",
       "      <td>202204</td>\n",
       "      <td>NaN</td>\n",
       "    </tr>\n",
       "    <tr>\n",
       "      <th>4</th>\n",
       "      <td>Alkoholunfälle</td>\n",
       "      <td>insgesamt</td>\n",
       "      <td>2022</td>\n",
       "      <td>202205</td>\n",
       "      <td>NaN</td>\n",
       "    </tr>\n",
       "  </tbody>\n",
       "</table>\n",
       "</div>"
      ],
      "text/plain": [
       "       MONATSZAHL AUSPRAEGUNG  JAHR   MONAT  WERT\n",
       "0  Alkoholunfälle   insgesamt  2022  202201   NaN\n",
       "1  Alkoholunfälle   insgesamt  2022  202202   NaN\n",
       "2  Alkoholunfälle   insgesamt  2022  202203   NaN\n",
       "3  Alkoholunfälle   insgesamt  2022  202204   NaN\n",
       "4  Alkoholunfälle   insgesamt  2022  202205   NaN"
      ]
     },
<<<<<<< HEAD
     "execution_count": 4,
=======
     "execution_count": 162,
>>>>>>> 48006175918dfa3ceadf496e6a8019afef2f160a
     "metadata": {},
     "output_type": "execute_result"
    }
   ],
   "source": [
    "## reviewing the training data\n",
    "df.info()\n",
    "df.head()"
   ]
  },
  {
   "cell_type": "code",
   "execution_count": null,
   "metadata": {},
   "outputs": [],
   "source": []
  },
  {
   "cell_type": "code",
<<<<<<< HEAD
   "execution_count": 5,
=======
   "execution_count": 163,
>>>>>>> 48006175918dfa3ceadf496e6a8019afef2f160a
   "metadata": {},
   "outputs": [
    {
     "name": "stdout",
     "output_type": "stream",
     "text": [
      "<class 'pandas.core.frame.DataFrame'>\n",
      "RangeIndex: 2002 entries, 0 to 2001\n",
      "Data columns (total 6 columns):\n",
      " #   Column       Non-Null Count  Dtype  \n",
      "---  ------       --------------  -----  \n",
      " 0   index        2002 non-null   int64  \n",
      " 1   MONATSZAHL   2002 non-null   object \n",
      " 2   AUSPRAEGUNG  2002 non-null   object \n",
      " 3   JAHR         2002 non-null   int64  \n",
      " 4   MONAT        2002 non-null   object \n",
      " 5   WERT         2002 non-null   float64\n",
      "dtypes: float64(1), int64(2), object(3)\n",
      "memory usage: 94.0+ KB\n"
     ]
    },
    {
     "data": {
      "text/html": [
       "<div>\n",
       "<style scoped>\n",
       "    .dataframe tbody tr th:only-of-type {\n",
       "        vertical-align: middle;\n",
       "    }\n",
       "\n",
       "    .dataframe tbody tr th {\n",
       "        vertical-align: top;\n",
       "    }\n",
       "\n",
       "    .dataframe thead th {\n",
       "        text-align: right;\n",
       "    }\n",
       "</style>\n",
       "<table border=\"1\" class=\"dataframe\">\n",
       "  <thead>\n",
       "    <tr style=\"text-align: right;\">\n",
       "      <th></th>\n",
       "      <th>index</th>\n",
       "      <th>MONATSZAHL</th>\n",
       "      <th>AUSPRAEGUNG</th>\n",
       "      <th>JAHR</th>\n",
       "      <th>MONAT</th>\n",
       "      <th>WERT</th>\n",
       "    </tr>\n",
       "  </thead>\n",
       "  <tbody>\n",
       "    <tr>\n",
       "      <th>0</th>\n",
       "      <td>12</td>\n",
       "      <td>Alkoholunfälle</td>\n",
       "      <td>insgesamt</td>\n",
       "      <td>2021</td>\n",
       "      <td>Summe</td>\n",
       "      <td>383.0</td>\n",
       "    </tr>\n",
       "    <tr>\n",
       "      <th>1</th>\n",
       "      <td>13</td>\n",
       "      <td>Alkoholunfälle</td>\n",
       "      <td>insgesamt</td>\n",
       "      <td>2021</td>\n",
       "      <td>202101</td>\n",
       "      <td>16.0</td>\n",
       "    </tr>\n",
       "    <tr>\n",
       "      <th>2</th>\n",
       "      <td>14</td>\n",
       "      <td>Alkoholunfälle</td>\n",
       "      <td>insgesamt</td>\n",
       "      <td>2021</td>\n",
       "      <td>202102</td>\n",
       "      <td>14.0</td>\n",
       "    </tr>\n",
       "    <tr>\n",
       "      <th>3</th>\n",
       "      <td>15</td>\n",
       "      <td>Alkoholunfälle</td>\n",
       "      <td>insgesamt</td>\n",
       "      <td>2021</td>\n",
       "      <td>202103</td>\n",
       "      <td>24.0</td>\n",
       "    </tr>\n",
       "    <tr>\n",
       "      <th>4</th>\n",
       "      <td>16</td>\n",
       "      <td>Alkoholunfälle</td>\n",
       "      <td>insgesamt</td>\n",
       "      <td>2021</td>\n",
       "      <td>202104</td>\n",
       "      <td>16.0</td>\n",
       "    </tr>\n",
       "  </tbody>\n",
       "</table>\n",
       "</div>"
      ],
      "text/plain": [
       "   index      MONATSZAHL AUSPRAEGUNG  JAHR   MONAT   WERT\n",
       "0     12  Alkoholunfälle   insgesamt  2021   Summe  383.0\n",
       "1     13  Alkoholunfälle   insgesamt  2021  202101   16.0\n",
       "2     14  Alkoholunfälle   insgesamt  2021  202102   14.0\n",
       "3     15  Alkoholunfälle   insgesamt  2021  202103   24.0\n",
       "4     16  Alkoholunfälle   insgesamt  2021  202104   16.0"
      ]
     },
<<<<<<< HEAD
     "execution_count": 5,
=======
     "execution_count": 163,
>>>>>>> 48006175918dfa3ceadf496e6a8019afef2f160a
     "metadata": {},
     "output_type": "execute_result"
    }
   ],
   "source": [
    "df=df[df.JAHR <= 2021].reset_index()\n",
    "df.info()\n",
    "df.head()"
   ]
  },
  {
   "cell_type": "code",
   "execution_count": null,
   "metadata": {},
   "outputs": [],
   "source": []
  },
  {
   "cell_type": "code",
<<<<<<< HEAD
   "execution_count": 6,
=======
   "execution_count": 164,
>>>>>>> 48006175918dfa3ceadf496e6a8019afef2f160a
   "metadata": {},
   "outputs": [
    {
     "data": {
      "text/plain": [
       "array(['Summe', '202101', '202102', '202103', '202104', '202105',\n",
       "       '202106', '202107', '202108', '202109', '202110', '202111',\n",
       "       '202112', '202001', '202002', '202003', '202004', '202005',\n",
       "       '202006', '202007', '202008', '202009', '202010', '202011',\n",
       "       '202012', '201901', '201902', '201903', '201904', '201905',\n",
       "       '201906', '201907', '201908', '201909', '201910', '201911',\n",
       "       '201912', '201801', '201802', '201803', '201804', '201805',\n",
       "       '201806', '201807', '201808', '201809', '201810', '201811',\n",
       "       '201812', '201701', '201702', '201703', '201704', '201705',\n",
       "       '201706', '201707', '201708', '201709', '201710', '201711',\n",
       "       '201712', '201601', '201602', '201603', '201604', '201605',\n",
       "       '201606', '201607', '201608', '201609', '201610', '201611',\n",
       "       '201612', '201501', '201502', '201503', '201504', '201505',\n",
       "       '201506', '201507', '201508', '201509', '201510', '201511',\n",
       "       '201512', '201401', '201402', '201403', '201404', '201405',\n",
       "       '201406', '201407', '201408', '201409', '201410', '201411',\n",
       "       '201412', '201301', '201302', '201303', '201304', '201305',\n",
       "       '201306', '201307', '201308', '201309', '201310', '201311',\n",
       "       '201312', '201201', '201202', '201203', '201204', '201205',\n",
       "       '201206', '201207', '201208', '201209', '201210', '201211',\n",
       "       '201212', '201101', '201102', '201103', '201104', '201105',\n",
       "       '201106', '201107', '201108', '201109', '201110', '201111',\n",
       "       '201112', '201001', '201002', '201003', '201004', '201005',\n",
       "       '201006', '201007', '201008', '201009', '201010', '201011',\n",
       "       '201012', '200901', '200902', '200903', '200904', '200905',\n",
       "       '200906', '200907', '200908', '200909', '200910', '200911',\n",
       "       '200912', '200801', '200802', '200803', '200804', '200805',\n",
       "       '200806', '200807', '200808', '200809', '200810', '200811',\n",
       "       '200812', '200701', '200702', '200703', '200704', '200705',\n",
       "       '200706', '200707', '200708', '200709', '200710', '200711',\n",
       "       '200712', '200601', '200602', '200603', '200604', '200605',\n",
       "       '200606', '200607', '200608', '200609', '200610', '200611',\n",
       "       '200612', '200501', '200502', '200503', '200504', '200505',\n",
       "       '200506', '200507', '200508', '200509', '200510', '200511',\n",
       "       '200512', '200401', '200402', '200403', '200404', '200405',\n",
       "       '200406', '200407', '200408', '200409', '200410', '200411',\n",
       "       '200412', '200301', '200302', '200303', '200304', '200305',\n",
       "       '200306', '200307', '200308', '200309', '200310', '200311',\n",
       "       '200312', '200201', '200202', '200203', '200204', '200205',\n",
       "       '200206', '200207', '200208', '200209', '200210', '200211',\n",
       "       '200212', '200101', '200102', '200103', '200104', '200105',\n",
       "       '200106', '200107', '200108', '200109', '200110', '200111',\n",
       "       '200112', '200001', '200002', '200003', '200004', '200005',\n",
       "       '200006', '200007', '200008', '200009', '200010', '200011',\n",
       "       '200012'], dtype=object)"
      ]
     },
<<<<<<< HEAD
     "execution_count": 6,
=======
     "execution_count": 164,
>>>>>>> 48006175918dfa3ceadf496e6a8019afef2f160a
     "metadata": {},
     "output_type": "execute_result"
    }
   ],
   "source": [
    "df.MONAT.unique()"
   ]
  },
  {
   "cell_type": "code",
<<<<<<< HEAD
   "execution_count": 7,
=======
   "execution_count": 165,
>>>>>>> 48006175918dfa3ceadf496e6a8019afef2f160a
   "metadata": {},
   "outputs": [
    {
     "data": {
      "text/plain": [
       "154"
      ]
     },
<<<<<<< HEAD
     "execution_count": 7,
=======
     "execution_count": 165,
>>>>>>> 48006175918dfa3ceadf496e6a8019afef2f160a
     "metadata": {},
     "output_type": "execute_result"
    }
   ],
   "source": [
    "df[\"MONAT\"].value_counts()[\"Summe\"]"
   ]
  },
  {
   "cell_type": "code",
<<<<<<< HEAD
   "execution_count": 8,
=======
   "execution_count": 166,
>>>>>>> 48006175918dfa3ceadf496e6a8019afef2f160a
   "metadata": {},
   "outputs": [
    {
     "name": "stderr",
     "output_type": "stream",
     "text": [
<<<<<<< HEAD
      "C:\\Users\\Emad\\AppData\\Local\\Temp/ipykernel_6660/2336722335.py:2: SettingWithCopyWarning: \n",
=======
      "C:\\Users\\Emad\\AppData\\Local\\Temp/ipykernel_1840/2336722335.py:2: SettingWithCopyWarning: \n",
>>>>>>> 48006175918dfa3ceadf496e6a8019afef2f160a
      "A value is trying to be set on a copy of a slice from a DataFrame\n",
      "\n",
      "See the caveats in the documentation: https://pandas.pydata.org/pandas-docs/stable/user_guide/indexing.html#returning-a-view-versus-a-copy\n",
      "  df[\"MONAT\"][i]= df[\"MONAT\"][i][-2:]\n"
     ]
    }
   ],
   "source": [
    "for i in range(len(df[\"MONAT\"])):\n",
    "    df[\"MONAT\"][i]= df[\"MONAT\"][i][-2:]"
   ]
  },
  {
   "cell_type": "code",
<<<<<<< HEAD
   "execution_count": 9,
=======
   "execution_count": 167,
>>>>>>> 48006175918dfa3ceadf496e6a8019afef2f160a
   "metadata": {},
   "outputs": [
    {
     "data": {
      "text/html": [
       "<div>\n",
       "<style scoped>\n",
       "    .dataframe tbody tr th:only-of-type {\n",
       "        vertical-align: middle;\n",
       "    }\n",
       "\n",
       "    .dataframe tbody tr th {\n",
       "        vertical-align: top;\n",
       "    }\n",
       "\n",
       "    .dataframe thead th {\n",
       "        text-align: right;\n",
       "    }\n",
       "</style>\n",
       "<table border=\"1\" class=\"dataframe\">\n",
       "  <thead>\n",
       "    <tr style=\"text-align: right;\">\n",
       "      <th></th>\n",
       "      <th>index</th>\n",
       "      <th>MONATSZAHL</th>\n",
       "      <th>AUSPRAEGUNG</th>\n",
       "      <th>JAHR</th>\n",
       "      <th>MONAT</th>\n",
       "      <th>WERT</th>\n",
       "    </tr>\n",
       "  </thead>\n",
       "  <tbody>\n",
       "    <tr>\n",
       "      <th>0</th>\n",
       "      <td>12</td>\n",
       "      <td>Alkoholunfälle</td>\n",
       "      <td>insgesamt</td>\n",
       "      <td>2021</td>\n",
       "      <td>me</td>\n",
       "      <td>383.0</td>\n",
       "    </tr>\n",
       "    <tr>\n",
       "      <th>1</th>\n",
       "      <td>13</td>\n",
       "      <td>Alkoholunfälle</td>\n",
       "      <td>insgesamt</td>\n",
       "      <td>2021</td>\n",
       "      <td>01</td>\n",
       "      <td>16.0</td>\n",
       "    </tr>\n",
       "    <tr>\n",
       "      <th>2</th>\n",
       "      <td>14</td>\n",
       "      <td>Alkoholunfälle</td>\n",
       "      <td>insgesamt</td>\n",
       "      <td>2021</td>\n",
       "      <td>02</td>\n",
       "      <td>14.0</td>\n",
       "    </tr>\n",
       "    <tr>\n",
       "      <th>3</th>\n",
       "      <td>15</td>\n",
       "      <td>Alkoholunfälle</td>\n",
       "      <td>insgesamt</td>\n",
       "      <td>2021</td>\n",
       "      <td>03</td>\n",
       "      <td>24.0</td>\n",
       "    </tr>\n",
       "    <tr>\n",
       "      <th>4</th>\n",
       "      <td>16</td>\n",
       "      <td>Alkoholunfälle</td>\n",
       "      <td>insgesamt</td>\n",
       "      <td>2021</td>\n",
       "      <td>04</td>\n",
       "      <td>16.0</td>\n",
       "    </tr>\n",
<<<<<<< HEAD
       "  </tbody>\n",
       "</table>\n",
       "</div>"
      ],
      "text/plain": [
       "   index      MONATSZAHL AUSPRAEGUNG  JAHR MONAT   WERT\n",
       "0     12  Alkoholunfälle   insgesamt  2021    me  383.0\n",
       "1     13  Alkoholunfälle   insgesamt  2021    01   16.0\n",
       "2     14  Alkoholunfälle   insgesamt  2021    02   14.0\n",
       "3     15  Alkoholunfälle   insgesamt  2021    03   24.0\n",
       "4     16  Alkoholunfälle   insgesamt  2021    04   16.0"
      ]
     },
     "execution_count": 9,
=======
       "    <tr>\n",
       "      <th>...</th>\n",
       "      <td>...</td>\n",
       "      <td>...</td>\n",
       "      <td>...</td>\n",
       "      <td>...</td>\n",
       "      <td>...</td>\n",
       "      <td>...</td>\n",
       "    </tr>\n",
       "    <tr>\n",
       "      <th>1997</th>\n",
       "      <td>2081</td>\n",
       "      <td>Verkehrsunfälle</td>\n",
       "      <td>Verletzte und Getötete</td>\n",
       "      <td>2000</td>\n",
       "      <td>08</td>\n",
       "      <td>647.0</td>\n",
       "    </tr>\n",
       "    <tr>\n",
       "      <th>1998</th>\n",
       "      <td>2082</td>\n",
       "      <td>Verkehrsunfälle</td>\n",
       "      <td>Verletzte und Getötete</td>\n",
       "      <td>2000</td>\n",
       "      <td>09</td>\n",
       "      <td>675.0</td>\n",
       "    </tr>\n",
       "    <tr>\n",
       "      <th>1999</th>\n",
       "      <td>2083</td>\n",
       "      <td>Verkehrsunfälle</td>\n",
       "      <td>Verletzte und Getötete</td>\n",
       "      <td>2000</td>\n",
       "      <td>10</td>\n",
       "      <td>615.0</td>\n",
       "    </tr>\n",
       "    <tr>\n",
       "      <th>2000</th>\n",
       "      <td>2084</td>\n",
       "      <td>Verkehrsunfälle</td>\n",
       "      <td>Verletzte und Getötete</td>\n",
       "      <td>2000</td>\n",
       "      <td>11</td>\n",
       "      <td>578.0</td>\n",
       "    </tr>\n",
       "    <tr>\n",
       "      <th>2001</th>\n",
       "      <td>2085</td>\n",
       "      <td>Verkehrsunfälle</td>\n",
       "      <td>Verletzte und Getötete</td>\n",
       "      <td>2000</td>\n",
       "      <td>12</td>\n",
       "      <td>515.0</td>\n",
       "    </tr>\n",
       "  </tbody>\n",
       "</table>\n",
       "<p>2002 rows × 6 columns</p>\n",
       "</div>"
      ],
      "text/plain": [
       "      index       MONATSZAHL             AUSPRAEGUNG  JAHR MONAT   WERT\n",
       "0        12   Alkoholunfälle               insgesamt  2021    me  383.0\n",
       "1        13   Alkoholunfälle               insgesamt  2021    01   16.0\n",
       "2        14   Alkoholunfälle               insgesamt  2021    02   14.0\n",
       "3        15   Alkoholunfälle               insgesamt  2021    03   24.0\n",
       "4        16   Alkoholunfälle               insgesamt  2021    04   16.0\n",
       "...     ...              ...                     ...   ...   ...    ...\n",
       "1997   2081  Verkehrsunfälle  Verletzte und Getötete  2000    08  647.0\n",
       "1998   2082  Verkehrsunfälle  Verletzte und Getötete  2000    09  675.0\n",
       "1999   2083  Verkehrsunfälle  Verletzte und Getötete  2000    10  615.0\n",
       "2000   2084  Verkehrsunfälle  Verletzte und Getötete  2000    11  578.0\n",
       "2001   2085  Verkehrsunfälle  Verletzte und Getötete  2000    12  515.0\n",
       "\n",
       "[2002 rows x 6 columns]"
      ]
     },
     "execution_count": 167,
>>>>>>> 48006175918dfa3ceadf496e6a8019afef2f160a
     "metadata": {},
     "output_type": "execute_result"
    }
   ],
   "source": [
    "df.head()"
   ]
  },
  {
   "cell_type": "code",
<<<<<<< HEAD
   "execution_count": 10,
=======
   "execution_count": 168,
>>>>>>> 48006175918dfa3ceadf496e6a8019afef2f160a
   "metadata": {},
   "outputs": [
    {
     "data": {
      "text/plain": [
       "array(['me', '01', '02', '03', '04', '05', '06', '07', '08', '09', '10',\n",
       "       '11', '12'], dtype=object)"
      ]
     },
<<<<<<< HEAD
     "execution_count": 10,
=======
     "execution_count": 168,
>>>>>>> 48006175918dfa3ceadf496e6a8019afef2f160a
     "metadata": {},
     "output_type": "execute_result"
    }
   ],
   "source": [
    "df.MONAT.unique()"
   ]
  },
  {
   "cell_type": "code",
   "execution_count": null,
   "metadata": {},
   "outputs": [],
   "source": []
  },
  {
   "cell_type": "code",
<<<<<<< HEAD
   "execution_count": 11,
=======
   "execution_count": 176,
>>>>>>> 48006175918dfa3ceadf496e6a8019afef2f160a
   "metadata": {},
   "outputs": [
    {
     "name": "stdout",
     "output_type": "stream",
     "text": [
      "index            int64\n",
      "MONATSZAHL      object\n",
      "AUSPRAEGUNG     object\n",
      "JAHR             int64\n",
<<<<<<< HEAD
      "MONAT           object\n",
=======
      "MONAT            int64\n",
>>>>>>> 48006175918dfa3ceadf496e6a8019afef2f160a
      "WERT           float64\n",
      "dtype: object\n"
     ]
    }
   ],
   "source": [
    "# encoding the value \"Summe\" as '00', in order for the entire column to be convertable to int type.\n",
    "\n",
    "df.replace('me', '00', inplace=True)\n",
    "print(df.dtypes)"
   ]
  },
  {
   "cell_type": "code",
<<<<<<< HEAD
   "execution_count": 12,
=======
   "execution_count": 178,
>>>>>>> 48006175918dfa3ceadf496e6a8019afef2f160a
   "metadata": {},
   "outputs": [
    {
     "name": "stdout",
     "output_type": "stream",
     "text": [
      "index            int64\n",
      "MONATSZAHL      object\n",
      "AUSPRAEGUNG     object\n",
      "JAHR             int64\n",
      "MONAT            int64\n",
      "WERT           float64\n",
      "dtype: object\n"
     ]
    }
   ],
   "source": [
    "df= df.astype({'MONAT': 'int64'})\n",
    "print(df.dtypes)"
   ]
  },
  {
   "cell_type": "code",
<<<<<<< HEAD
   "execution_count": 13,
=======
   "execution_count": 179,
>>>>>>> 48006175918dfa3ceadf496e6a8019afef2f160a
   "metadata": {},
   "outputs": [
    {
     "data": {
      "text/plain": [
       "array([ 0,  1,  2,  3,  4,  5,  6,  7,  8,  9, 10, 11, 12], dtype=int64)"
      ]
     },
<<<<<<< HEAD
     "execution_count": 13,
=======
     "execution_count": 179,
>>>>>>> 48006175918dfa3ceadf496e6a8019afef2f160a
     "metadata": {},
     "output_type": "execute_result"
    }
   ],
   "source": [
    "df[\"MONAT\"].unique()"
   ]
  },
  {
   "cell_type": "code",
<<<<<<< HEAD
   "execution_count": 14,
=======
   "execution_count": 180,
>>>>>>> 48006175918dfa3ceadf496e6a8019afef2f160a
   "metadata": {},
   "outputs": [
    {
     "data": {
      "text/html": [
       "<div>\n",
       "<style scoped>\n",
       "    .dataframe tbody tr th:only-of-type {\n",
       "        vertical-align: middle;\n",
       "    }\n",
       "\n",
       "    .dataframe tbody tr th {\n",
       "        vertical-align: top;\n",
       "    }\n",
       "\n",
       "    .dataframe thead th {\n",
       "        text-align: right;\n",
       "    }\n",
       "</style>\n",
       "<table border=\"1\" class=\"dataframe\">\n",
       "  <thead>\n",
       "    <tr style=\"text-align: right;\">\n",
       "      <th></th>\n",
       "      <th>index</th>\n",
       "      <th>MONATSZAHL</th>\n",
       "      <th>AUSPRAEGUNG</th>\n",
       "      <th>JAHR</th>\n",
       "      <th>MONAT</th>\n",
       "      <th>WERT</th>\n",
       "    </tr>\n",
       "  </thead>\n",
       "  <tbody>\n",
       "    <tr>\n",
       "      <th>0</th>\n",
       "      <td>12</td>\n",
       "      <td>Alkoholunfälle</td>\n",
       "      <td>insgesamt</td>\n",
       "      <td>2021</td>\n",
       "      <td>0</td>\n",
       "      <td>383.0</td>\n",
       "    </tr>\n",
       "    <tr>\n",
       "      <th>1</th>\n",
       "      <td>13</td>\n",
       "      <td>Alkoholunfälle</td>\n",
       "      <td>insgesamt</td>\n",
       "      <td>2021</td>\n",
       "      <td>1</td>\n",
       "      <td>16.0</td>\n",
       "    </tr>\n",
       "    <tr>\n",
       "      <th>2</th>\n",
       "      <td>14</td>\n",
       "      <td>Alkoholunfälle</td>\n",
       "      <td>insgesamt</td>\n",
       "      <td>2021</td>\n",
       "      <td>2</td>\n",
       "      <td>14.0</td>\n",
       "    </tr>\n",
       "    <tr>\n",
       "      <th>3</th>\n",
       "      <td>15</td>\n",
       "      <td>Alkoholunfälle</td>\n",
       "      <td>insgesamt</td>\n",
       "      <td>2021</td>\n",
       "      <td>3</td>\n",
       "      <td>24.0</td>\n",
       "    </tr>\n",
       "    <tr>\n",
       "      <th>4</th>\n",
       "      <td>16</td>\n",
       "      <td>Alkoholunfälle</td>\n",
       "      <td>insgesamt</td>\n",
       "      <td>2021</td>\n",
       "      <td>4</td>\n",
       "      <td>16.0</td>\n",
       "    </tr>\n",
       "  </tbody>\n",
       "</table>\n",
       "</div>"
      ],
      "text/plain": [
       "   index      MONATSZAHL AUSPRAEGUNG  JAHR  MONAT   WERT\n",
       "0     12  Alkoholunfälle   insgesamt  2021      0  383.0\n",
       "1     13  Alkoholunfälle   insgesamt  2021      1   16.0\n",
       "2     14  Alkoholunfälle   insgesamt  2021      2   14.0\n",
       "3     15  Alkoholunfälle   insgesamt  2021      3   24.0\n",
       "4     16  Alkoholunfälle   insgesamt  2021      4   16.0"
      ]
     },
<<<<<<< HEAD
     "execution_count": 14,
=======
     "execution_count": 180,
>>>>>>> 48006175918dfa3ceadf496e6a8019afef2f160a
     "metadata": {},
     "output_type": "execute_result"
    }
   ],
   "source": [
    "df.head()"
   ]
  },
  {
   "cell_type": "code",
<<<<<<< HEAD
   "execution_count": 15,
=======
   "execution_count": 181,
>>>>>>> 48006175918dfa3ceadf496e6a8019afef2f160a
   "metadata": {},
   "outputs": [
    {
     "name": "stdout",
     "output_type": "stream",
     "text": [
      "Verkehrsunfälle    858\n",
      "Alkoholunfälle     572\n",
      "Fluchtunfälle      572\n",
      "Name: MONATSZAHL, dtype: int64\n",
      "insgesamt                 858\n",
      "Verletzte und Getötete    858\n",
      "mit Personenschäden       286\n",
      "Name: AUSPRAEGUNG, dtype: int64\n",
      "2021    91\n",
      "2020    91\n",
      "2001    91\n",
      "2002    91\n",
      "2003    91\n",
      "2004    91\n",
      "2005    91\n",
      "2006    91\n",
      "2007    91\n",
      "2008    91\n",
      "2009    91\n",
      "2010    91\n",
      "2011    91\n",
      "2012    91\n",
      "2013    91\n",
      "2014    91\n",
      "2015    91\n",
      "2016    91\n",
      "2017    91\n",
      "2018    91\n",
      "2019    91\n",
      "2000    91\n",
      "Name: JAHR, dtype: int64\n",
      "0     154\n",
      "1     154\n",
      "2     154\n",
      "3     154\n",
      "4     154\n",
      "5     154\n",
      "6     154\n",
      "7     154\n",
      "8     154\n",
      "9     154\n",
      "10    154\n",
      "11    154\n",
      "12    154\n",
      "Name: MONAT, dtype: int64\n"
     ]
    }
   ],
   "source": [
    "print(df[\"MONATSZAHL\"].value_counts())\n",
    "print(df[\"AUSPRAEGUNG\"].value_counts())\n",
    "print(df[\"JAHR\"].value_counts())\n",
    "print(df[\"MONAT\"].value_counts())"
   ]
  },
  {
   "cell_type": "code",
<<<<<<< HEAD
   "execution_count": 18,
   "metadata": {},
   "outputs": [
    {
     "data": {
      "text/plain": [
       "count     2002.000000\n",
       "mean      1434.433566\n",
       "std       4634.494223\n",
       "min          0.000000\n",
       "25%         41.000000\n",
       "50%        394.000000\n",
       "75%        863.250000\n",
       "max      46988.000000\n",
       "Name: WERT, dtype: float64"
      ]
     },
     "execution_count": 18,
     "metadata": {},
     "output_type": "execute_result"
    }
   ],
   "source": [
    "df['WERT'].describe()"
   ]
  },
  {
   "cell_type": "code",
   "execution_count": 16,
=======
   "execution_count": null,
   "metadata": {},
   "outputs": [],
   "source": []
  },
  {
   "cell_type": "code",
   "execution_count": 185,
>>>>>>> 48006175918dfa3ceadf496e6a8019afef2f160a
   "metadata": {},
   "outputs": [
    {
     "data": {
      "image/png": "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\n",
      "text/plain": [
       "<Figure size 432x288 with 1 Axes>"
      ]
     },
     "metadata": {
      "needs_background": "light"
     },
     "output_type": "display_data"
    }
   ],
   "source": [
    "df.hist(column= 'WERT')\n",
    "plt.show()"
   ]
  },
  {
   "cell_type": "markdown",
   "metadata": {
    "_cell_guid": "6045f3f9-ebad-42c2-b1f5-ee8847bdfe13",
    "_uuid": "466e05cf-91ef-4acc-8b51-1699cd2614bd"
   },
   "source": [
    "## Data Preprocessing"
   ]
  },
  {
   "cell_type": "code",
   "execution_count": null,
   "metadata": {},
   "outputs": [],
   "source": []
  }
 ],
 "metadata": {
  "kernelspec": {
   "display_name": "Python 3 (ipykernel)",
   "language": "python",
   "name": "python3"
  },
  "language_info": {
   "codemirror_mode": {
    "name": "ipython",
    "version": 3
   },
   "file_extension": ".py",
   "mimetype": "text/x-python",
   "name": "python",
   "nbconvert_exporter": "python",
   "pygments_lexer": "ipython3",
   "version": "3.9.7"
  }
 },
 "nbformat": 4,
 "nbformat_minor": 4
}
